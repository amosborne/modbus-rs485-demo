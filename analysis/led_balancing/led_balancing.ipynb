{
 "cells": [
  {
   "cell_type": "markdown",
   "id": "c1eefc2f-14d2-444c-b116-c40041d2a10b",
   "metadata": {},
   "source": [
    "This design has several different color discrete LEDs as well as seven segment displays. It is desired that the luminous intensity of the seven segment displays be balanced, the luminous intensity of the discrete LEDs be balanced, and the ratio of luminous intensity between the seven segment displays and descrete LEDs be controlled.\n",
    "\n",
    "Components modelled in the following calculations:\n",
    "1. [Green 0805 LED, 150080GS750000](https://www.we-online.com/katalog/datasheet/150080GS75000.pdf)\n",
    "2. [Red 0805 LED, 150080RS75000](https://www.we-online.com/katalog/datasheet/150080RS75000.pdf)\n",
    "3. [Blue 0805 LED, 150080BS75000](https://www.we-online.com/katalog/datasheet/150080BS75000.pdf)\n",
    "4. [Green Seven Segment Display, LTC-4727G\n",
    "](https://www.mouser.com/datasheet/2/239/lite-on_lites11652-1-1737414.pdf)\n",
    "5. [Red Seven Segment Display, LTC-4727JR\n",
    "](https://www.mouser.com/datasheet/2/239/C4727JR-1150662.pdf)\n",
    "6. [Yellow Seven Segment Display, LTC-4727JS\n",
    "](https://www.mouser.com/datasheet/2/239/lite-on_lites02430-1-1737355.pdf)"
   ]
  },
  {
   "cell_type": "code",
   "execution_count": 1,
   "id": "8bdee482-a729-4d6f-9241-3fef16354bfc",
   "metadata": {},
   "outputs": [],
   "source": [
    "%reload_ext lab_black\n",
    "from scipy.interpolate import interp1d\n",
    "from scipy.optimize import root_scalar\n",
    "from numpy import genfromtxt\n",
    "from eseries import find_nearest, E12\n",
    "from worstcase import unit"
   ]
  },
  {
   "cell_type": "code",
   "execution_count": 2,
   "id": "a0de5f6d-b493-4440-af40-ccc770bf05b0",
   "metadata": {},
   "outputs": [],
   "source": [
    "def vf2if(pn):\n",
    "    # Given a list of forward voltages and the corresponding forward currents,\n",
    "    # return a function which interpolates the given data.\n",
    "    filename = pn + \"_vf2if.txt\"\n",
    "    data = genfromtxt(filename, delimiter=\",\")\n",
    "    return interp1d(data[:, 0], data[:, 1], fill_value=\"extrapolate\")"
   ]
  },
  {
   "cell_type": "code",
   "execution_count": 3,
   "id": "7d10c659-8abd-40ab-9e98-e19468639d1c",
   "metadata": {},
   "outputs": [],
   "source": [
    "def if2li(pn):\n",
    "    # Given a list of forward currents and the corresponding luminous intensities,\n",
    "    # return a fuction which interpolates the given data.\n",
    "    filename = pn + \"_if2li.txt\"\n",
    "    data = genfromtxt(filename, delimiter=\",\")\n",
    "    return interp1d(data[:, 0], data[:, 1], fill_value=\"extrapolate\")"
   ]
  },
  {
   "cell_type": "code",
   "execution_count": 4,
   "id": "274b2542-4291-435b-bb50-d2e065d07869",
   "metadata": {},
   "outputs": [],
   "source": [
    "def li2res(pn, vcc, li):\n",
    "    # Given the desired luminous intensity and LED drive voltage,\n",
    "    # return the value of the series resistor.\n",
    "    pn_if2li = if2li(pn)\n",
    "    if_rootfun = lambda x: pn_if2li(x) - li\n",
    "    if_sol = root_scalar(if_rootfun, x0=10, bracket=[0, 100])\n",
    "    assert if_sol.converged\n",
    "\n",
    "    pn_vf2if = vf2if(pn)\n",
    "    vf_rootfun = lambda x: pn_vf2if(x) - if_sol.root\n",
    "    vf_sol = root_scalar(vf_rootfun, x0=3, bracket=[0, 10])\n",
    "    assert vf_sol.converged\n",
    "\n",
    "    res = 1000 * (vcc - vf_sol.root) / if_sol.root\n",
    "    return find_nearest(E12, res) * unit.ohm"
   ]
  },
  {
   "cell_type": "code",
   "execution_count": 5,
   "id": "a9f8b272-9a22-4e89-9c32-134f4a94308a",
   "metadata": {},
   "outputs": [],
   "source": [
    "def balanced_discrete_leds(vcc, li):\n",
    "    grn = li2res(\"150080GS75000\", vcc, li)  # Green 0805 LED\n",
    "    red = li2res(\"150080RS75000\", vcc, li)  # Red 0805 LED\n",
    "    blu = li2res(\"150080BS75000\", vcc, li)  # Blue 0805 LED\n",
    "    return grn, red, blu"
   ]
  },
  {
   "cell_type": "code",
   "execution_count": 6,
   "id": "f181a319-0574-4fb5-b983-af36cd3e744d",
   "metadata": {},
   "outputs": [],
   "source": [
    "def balanced_seven_segment_displays(vcc, li):\n",
    "    grn = li2res(\"LTC-4727G\", vcc, li * 1000)  # Green Seven Segment\n",
    "    red = li2res(\"LTC-4727JR\", vcc, li * 1000)  # Red Seven Segment\n",
    "    yel = li2res(\"LTC-4727JS\", vcc, li * 1000)  # Yellow Seven Segment\n",
    "    return grn, red, yel"
   ]
  },
  {
   "cell_type": "code",
   "execution_count": 7,
   "id": "9ae57b32-4058-4528-a112-1b050b2f556f",
   "metadata": {},
   "outputs": [
    {
     "name": "stdout",
     "output_type": "stream",
     "text": [
      "green: 1500.0 ohm\n",
      "red: 680.0 ohm\n",
      "blue: 330.0 ohm\n"
     ]
    }
   ],
   "source": [
    "grn, red, blu = balanced_discrete_leds(vcc=3.3, li=20)\n",
    "print(\"green:\", grn)\n",
    "print(\"red:\", red)\n",
    "print(\"blue:\", blu)"
   ]
  },
  {
   "cell_type": "code",
   "execution_count": 8,
   "id": "2ccffe9a-d606-46c3-b587-518d77bf91bd",
   "metadata": {},
   "outputs": [
    {
     "name": "stdout",
     "output_type": "stream",
     "text": [
      "green: 220.0 ohm\n",
      "red: 220.0 ohm\n",
      "yellow: 120.0 ohm\n"
     ]
    }
   ],
   "source": [
    "grn, red, yel = balanced_seven_segment_displays(vcc=3.3, li=0.8)\n",
    "print(\"green:\", grn)\n",
    "print(\"red:\", red)\n",
    "print(\"yellow:\", yel)"
   ]
  }
 ],
 "metadata": {
  "kernelspec": {
   "display_name": "Python 3",
   "language": "python",
   "name": "python3"
  },
  "language_info": {
   "codemirror_mode": {
    "name": "ipython",
    "version": 3
   },
   "file_extension": ".py",
   "mimetype": "text/x-python",
   "name": "python",
   "nbconvert_exporter": "python",
   "pygments_lexer": "ipython3",
   "version": "3.9.4"
  }
 },
 "nbformat": 4,
 "nbformat_minor": 5
}
